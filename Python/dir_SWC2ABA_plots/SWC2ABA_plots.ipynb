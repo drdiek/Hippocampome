{
 "cells": [
  {
   "cell_type": "code",
   "execution_count": 26,
   "metadata": {},
   "outputs": [],
   "source": [
    "import pandas as pd"
   ]
  },
  {
   "cell_type": "code",
   "execution_count": 27,
   "metadata": {},
   "outputs": [],
   "source": [
    "csvFileName = './data/morphologyMatrix_DG_Atlas_V3_20181206114005.csv'\n",
    "plotLabel = 'Atlas_V3'"
   ]
  },
  {
   "cell_type": "code",
   "execution_count": 28,
   "metadata": {},
   "outputs": [],
   "source": [
    "morphologyDF = pd.read_csv(csvFileName)"
   ]
  },
  {
   "cell_type": "code",
   "execution_count": 29,
   "metadata": {},
   "outputs": [],
   "source": [
    "import matplotlib.pyplot as plt\n",
    "%matplotlib inline"
   ]
  },
  {
   "cell_type": "code",
   "execution_count": 30,
   "metadata": {},
   "outputs": [],
   "source": [
    "from lib.plot_functions import HCcolors as c\n",
    "from lib.plot_functions import make_color_map"
   ]
  },
  {
   "cell_type": "code",
   "execution_count": 31,
   "metadata": {},
   "outputs": [],
   "source": [
    "def time_stamp():\n",
    "    import datetime\n",
    "\n",
    "    today = datetime.datetime.now()\n",
    "    timeStampStr = ['{}'.format(today.year), \\\n",
    "                    '{:0>2}'.format(today.month), \\\n",
    "                    '{:0>2}'.format(today.day), \\\n",
    "                    '{:0>2}'.format(today.hour), \\\n",
    "                    '{:0>2}'.format(today.minute)]\n",
    "    return ''.join(timeStampStr)"
   ]
  },
  {
   "cell_type": "code",
   "execution_count": 32,
   "metadata": {},
   "outputs": [],
   "source": [
    "DG = 0\n",
    "CA3 = 1\n",
    "CA2 = 2\n",
    "CA1 = 3\n",
    "Sub = 4\n",
    "EC = 5\n",
    "\n",
    "nNeurons, nParcels = morphologyDF.shape\n",
    "\n",
    "vTab = 1.5"
   ]
  },
  {
   "cell_type": "code",
   "execution_count": 33,
   "metadata": {},
   "outputs": [],
   "source": [
    "if (plotLabel.find('ARA') > -1):\n",
    "    nParcellations = (3,5,4,4,2)\n",
    "\n",
    "    layerNames = ('SM','SG','H', \\\n",
    "                  'SLM','SR','SL','SP','SO', \\\n",
    "                  'SLM','SR','SP','SO', \\\n",
    "                  'SLM','SR','SP','SO', \\\n",
    "                  'SM','SR')\n",
    "else:\n",
    "    nParcellations = (3,1,1,1,1)\n",
    "\n",
    "    layerNames = ('SM','SG','H', \\\n",
    "                  ' ', \\\n",
    "                  ' ', \\\n",
    "                  ' ', \\\n",
    "                  ' ')"
   ]
  },
  {
   "cell_type": "code",
   "execution_count": 34,
   "metadata": {},
   "outputs": [],
   "source": [
    "displayFontSize = 3\n",
    "if (nNeurons < 100):\n",
    "    displayFontSize = 6\n",
    "if (nNeurons < 50):\n",
    "    displayFontSize = 8\n",
    "    \n",
    "shadingLineWidths = 1.0"
   ]
  },
  {
   "cell_type": "code",
   "execution_count": 35,
   "metadata": {},
   "outputs": [
    {
     "name": "stdout",
     "output_type": "stream",
     "text": [
      "Making color map ...\n",
      "\n"
     ]
    }
   ],
   "source": [
    "print \"Making color map ...\\n\"\n",
    "colors = [c.WHITE,\n",
    "          c.BLUE,\n",
    "          c.RED,\n",
    "          c.PURPLE]\n",
    "morphologyColorMap = make_color_map(colors)"
   ]
  },
  {
   "cell_type": "code",
   "execution_count": 47,
   "metadata": {},
   "outputs": [
    {
     "name": "stdout",
     "output_type": "stream",
     "text": [
      "Plotting data ...\n",
      "\n",
      "Labeling axes ...\n",
      "\n"
     ]
    },
    {
     "data": {
      "text/plain": [
       "Text(-8,-1,'Atlas_V3')"
      ]
     },
     "execution_count": 47,
     "metadata": {},
     "output_type": "execute_result"
    },
    {
     "data": {
      "image/png": "[encoded data removed]",
      "text/plain": [
       "<Figure size 432x288 with 1 Axes>"
      ]
     },
     "metadata": {},
     "output_type": "display_data"
    }
   ],
   "source": [
    "print \"Plotting data ...\\n\"\n",
    "fig = plt.figure()\n",
    "ax = fig.add_subplot(111)\n",
    "\n",
    "ax.set_aspect(\"equal\")\n",
    "\n",
    "plt.pcolormesh(morphologyDF.iloc[0:nNeurons, 1:nParcels], cmap=morphologyColorMap, edgecolors=c.BLACK, linewidth=shadingLineWidths)\n",
    "\n",
    "plt.xlim(0, nParcels-1)\n",
    "plt.ylim(-vTab, nNeurons)\n",
    "\n",
    "plt.gca().invert_yaxis()\n",
    "\n",
    "plt.tick_params(\n",
    "    axis=\"x\",          # changes apply to the x-axis\n",
    "    which=\"both\",      # both major and minor ticks are affected\n",
    "    bottom=False,      # ticks along the bottom edge are off\n",
    "    top=False,         # ticks along the top edge are off\n",
    "    labelbottom=False, # labels along the bottom edge are off\n",
    "    labeltop=False)    # labels along the top edge are off\n",
    "    \n",
    "plt.tick_params(\n",
    "    axis=\"y\",          # changes apply to the x-axis\n",
    "    which=\"both\",      # both major and minor ticks are affected\n",
    "    left=False,        # ticks along the left edge are off\n",
    "    right=False,       # ticks along the right edge are off\n",
    "    labelleft=False,   # labels along the left edge are off\n",
    "    labelright=False)  # labels along the right edge are off\n",
    "\n",
    "for i in range(nNeurons):\n",
    "    for j in range(1, nParcels):\n",
    "        ### add horizontal white lines to neurite locations with axons\n",
    "        if (morphologyDF.iloc[i, j] == 1.0) | (morphologyDF.iloc[i, j] == 3.0):\n",
    "            plt.plot([j-1.0+0.1, j-1.0+0.9], [i+0.5, i+0.5], 'w', linewidth=shadingLineWidths)\n",
    "        \n",
    "        ### add vertical white lines to neurite locations with dendrites\n",
    "        if (morphologyDF.iloc[i, j] == 2.0) | (morphologyDF.iloc[i, j] == 3.0):\n",
    "            plt.plot([j-1.0+0.5, j-1.0+0.5], [i+0.1, i+0.9], 'white', linewidth=shadingLineWidths)\n",
    "\n",
    "print \"Labeling axes ...\\n\"\n",
    "for i in range(nNeurons):        \n",
    "    ax.text(-0.5, float(i+1), morphologyDF.loc[i]['File_Names'], rotation=0, horizontalalignment=\"right\", fontsize=displayFontSize)\n",
    "\n",
    "### color-coded tags for the subregions\n",
    "ax.add_patch(plt.Rectangle((sum(nParcellations[DG:DG]), -vTab), nParcellations[DG], vTab, edgecolor=c.BLACK, facecolor=c.BROWN_DG))\n",
    "ax.add_patch(plt.Rectangle((sum(nParcellations[DG:CA3]), -vTab), nParcellations[CA3], vTab, edgecolor=c.BLACK, facecolor=c.BROWN_CA3))\n",
    "ax.add_patch(plt.Rectangle((sum(nParcellations[DG:CA2]), -vTab), nParcellations[CA2], vTab, edgecolor=c.BLACK, facecolor=c.YELLOW_CA2))\n",
    "ax.add_patch(plt.Rectangle((sum(nParcellations[DG:CA1]), -vTab), nParcellations[CA1], vTab, edgecolor=c.BLACK, facecolor=c.ORANGE_CA1))\n",
    "ax.add_patch(plt.Rectangle((sum(nParcellations[DG:Sub]), -vTab), nParcellations[Sub], vTab, edgecolor=c.BLACK, facecolor=c.YELLOW_Sub))\n",
    "\n",
    "DGtab  = nParcellations[DG]/2.0\n",
    "CA3tab = nParcellations[DG] + nParcellations[CA3]/2.0\n",
    "CA2tab = nParcellations[DG] + nParcellations[CA3] + nParcellations[CA2]/2.0\n",
    "CA1tab = nParcellations[DG] + nParcellations[CA3] + nParcellations[CA2] + nParcellations[CA1]/2.0\n",
    "Subtab = nParcellations[DG] + nParcellations[CA3] + nParcellations[CA2] + nParcellations[CA1] + nParcellations[Sub]/2.0\n",
    "\n",
    "ax.text(DGtab, -1, 'DG', fontsize=displayFontSize/2, color=c.WHITE, horizontalalignment='center')\n",
    "ax.text(CA3tab, -1, 'CA3', fontsize=displayFontSize/2, color=c.WHITE, horizontalalignment='center')\n",
    "ax.text(CA2tab, -1, 'CA2', fontsize=displayFontSize/2, color=c.BLACK, horizontalalignment='center')\n",
    "ax.text(CA1tab, -1, 'CA1', fontsize=displayFontSize/2, color=c.WHITE, horizontalalignment='center')\n",
    "ax.text(Subtab, -1, 'Sub', fontsize=displayFontSize/2, color=c.BLACK, horizontalalignment='center')\n",
    "\n",
    "for j in range(len(layerNames)):\n",
    "    if (plotLabel.find('ARA') > -1):\n",
    "        if (j in (0, 1, 2, 3, 4, 5, 6, 7, 12, 13, 14, 15)):\n",
    "            ax.text(float(j)+0.5, -0.25, layerNames[j], fontsize=displayFontSize/2, color=c.WHITE, horizontalalignment='center')\n",
    "        else:\n",
    "            ax.text(float(j)+0.5, -0.25, layerNames[j], fontsize=displayFontSize/2, color=c.BLACK, horizontalalignment='center')\n",
    "    else:\n",
    "        if (j in (0, 1, 2, 3, 5)):\n",
    "            ax.text(float(j)+0.5, -0.25, layerNames[j], fontsize=displayFontSize/2, color=c.WHITE, horizontalalignment='center')\n",
    "        else:\n",
    "            ax.text(float(j)+0.5, -0.25, layerNames[j], fontsize=displayFontSize/2, color=c.BLACK, horizontalalignment='center')\n",
    "\n",
    "ax.text(-8.0, -1.0, plotLabel, fontsize=displayFontSize)"
   ]
  },
  {
   "cell_type": "code",
   "execution_count": 48,
   "metadata": {},
   "outputs": [
    {
     "name": "stdout",
     "output_type": "stream",
     "text": [
      "Saving data to pdf file output/morphology_matrix_Atlas_V3_201812201158.pdf ...\n",
      "\n"
     ]
    }
   ],
   "source": [
    "outputFileName = \"output/morphology_matrix_{}_{}.pdf\".format(plotLabel, time_stamp())\n",
    "print \"Saving data to pdf file {} ...\\n\".format(outputFileName)    \n",
    "fig.savefig(outputFileName, dpi=600)"
   ]
  },
  {
   "cell_type": "code",
   "execution_count": null,
   "metadata": {},
   "outputs": [],
   "source": []
  }
 ],
 "metadata": {
  "kernelspec": {
   "display_name": "Python 2",
   "language": "python",
   "name": "python2"
  },
  "language_info": {
   "codemirror_mode": {
    "name": "ipython",
    "version": 2
   },
   "file_extension": ".py",
   "mimetype": "text/x-python",
   "name": "python",
   "nbconvert_exporter": "python",
   "pygments_lexer": "ipython2",
   "version": "2.7.6"
  }
 },
 "nbformat": 4,
 "nbformat_minor": 2
}
